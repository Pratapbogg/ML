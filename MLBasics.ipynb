{
  "nbformat": 4,
  "nbformat_minor": 0,
  "metadata": {
    "colab": {
      "name": "MLBasics.ipynb",
      "provenance": [],
      "collapsed_sections": [],
      "authorship_tag": "ABX9TyOCAMeiuE5e5W/oDJI/jn3G",
      "include_colab_link": true
    },
    "kernelspec": {
      "name": "python3",
      "display_name": "Python 3"
    },
    "language_info": {
      "name": "python"
    }
  },
  "cells": [
    {
      "cell_type": "markdown",
      "metadata": {
        "id": "view-in-github",
        "colab_type": "text"
      },
      "source": [
        "<a href=\"https://colab.research.google.com/github/Pratapbogg/ML/blob/main/MLBasics.ipynb\" target=\"_parent\"><img src=\"https://colab.research.google.com/assets/colab-badge.svg\" alt=\"Open In Colab\"/></a>"
      ]
    },
    {
      "cell_type": "markdown",
      "source": [
        "\n",
        "1. Print()\n"
      ],
      "metadata": {
        "id": "U8vsJ-muQ-2y"
      }
    },
    {
      "cell_type": "code",
      "source": [
        "print(\"Hello World\")"
      ],
      "metadata": {
        "colab": {
          "base_uri": "https://localhost:8080/"
        },
        "id": "01xEecy3Q-dM",
        "outputId": "a8500e73-c0e7-46e2-ba56-c1d63fbdb9ac"
      },
      "execution_count": 12,
      "outputs": [
        {
          "output_type": "stream",
          "name": "stdout",
          "text": [
            "Hello World\n"
          ]
        }
      ]
    },
    {
      "cell_type": "markdown",
      "source": [
        "2. Data Structure\n",
        "  a.List\n",
        "  b.Tuple\n",
        "  c.Dict\n",
        "  d.Set\n",
        "\n",
        "  "
      ],
      "metadata": {
        "id": "6XLXDavJR-Iq"
      }
    },
    {
      "cell_type": "code",
      "source": [
        "MultiList = [1,'a',\"test\",3.6,True]\n",
        "veggies = [\"Potatoes\",\"Peas\",\"Beans\",\"Carrot\"]\n",
        "array = [1,2,3,4,5,]\n",
        "\n",
        "print(veggies)\n",
        "print(MultiList)\n",
        "print(type(veggies))"
      ],
      "metadata": {
        "id": "FnS5M__gR92a"
      },
      "execution_count": null,
      "outputs": []
    },
    {
      "cell_type": "markdown",
      "source": [
        "3. In Python, Indexing starts from 0(Zero)"
      ],
      "metadata": {
        "id": "v9QOB9s_VByg"
      }
    }
  ]
}