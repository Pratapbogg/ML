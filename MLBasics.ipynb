{
  "nbformat": 4,
  "nbformat_minor": 0,
  "metadata": {
    "colab": {
      "name": "MLBasics.ipynb",
      "provenance": [],
      "collapsed_sections": [],
      "authorship_tag": "ABX9TyPPqTHYjfKTbIr7hSd+IONp",
      "include_colab_link": true
    },
    "kernelspec": {
      "name": "python3",
      "display_name": "Python 3"
    },
    "language_info": {
      "name": "python"
    }
  },
  "cells": [
    {
      "cell_type": "markdown",
      "metadata": {
        "id": "view-in-github",
        "colab_type": "text"
      },
      "source": [
        "<a href=\"https://colab.research.google.com/github/Pratapbogg/ML/blob/main/MLBasics.ipynb\" target=\"_parent\"><img src=\"https://colab.research.google.com/assets/colab-badge.svg\" alt=\"Open In Colab\"/></a>"
      ]
    },
    {
      "cell_type": "markdown",
      "source": [
        "\n",
        "1. Print()\n"
      ],
      "metadata": {
        "id": "U8vsJ-muQ-2y"
      }
    },
    {
      "cell_type": "code",
      "source": [
        "print(\"Hello World\")"
      ],
      "metadata": {
        "colab": {
          "base_uri": "https://localhost:8080/"
        },
        "id": "01xEecy3Q-dM",
        "outputId": "a8500e73-c0e7-46e2-ba56-c1d63fbdb9ac"
      },
      "execution_count": 12,
      "outputs": [
        {
          "output_type": "stream",
          "name": "stdout",
          "text": [
            "Hello World\n"
          ]
        }
      ]
    },
    {
      "cell_type": "markdown",
      "source": [
        "2. Data Structure\n",
        "  a.List\n",
        "  b.Tuple\n",
        "  c.Dict\n",
        "  d.Set\n",
        "\n",
        "  "
      ],
      "metadata": {
        "id": "6XLXDavJR-Iq"
      }
    },
    {
      "cell_type": "markdown",
      "source": [
        "List"
      ],
      "metadata": {
        "id": "AW06y5AVWlOI"
      }
    },
    {
      "cell_type": "code",
      "source": [
        "MultiList = [1,'a',\"test\",3.6,True]\n",
        "veggies = [\"Potatoes\",\"peas\",\"Beans\",\"Carrot\"]\n",
        "array = [1,2,3,4,5,]\n",
        "\n",
        "print(veggies)\n",
        "print(MultiList)\n",
        "print(type(veggies))\n",
        "\n",
        "print(veggies[3])\n",
        "print(veggies[-2])\n",
        "\n",
        "veggies.append(\"Brinjal\")\n",
        "veggies[2] = \"Peas\"\n",
        "print(veggies)"
      ],
      "metadata": {
        "id": "FnS5M__gR92a"
      },
      "execution_count": null,
      "outputs": []
    },
    {
      "cell_type": "markdown",
      "source": [
        "3. In Python, Indexing starts from 0(Zero)"
      ],
      "metadata": {
        "id": "v9QOB9s_VByg"
      }
    },
    {
      "cell_type": "markdown",
      "source": [
        "Tuple"
      ],
      "metadata": {
        "id": "ehu-MwobWhMR"
      }
    },
    {
      "cell_type": "code",
      "source": [
        "Veg = (\"V1\",\"V2\",\"V3\")\n",
        "print(Veg)\n",
        "print(type(Veg))\n",
        "\n",
        "print(Veg)\n"
      ],
      "metadata": {
        "colab": {
          "base_uri": "https://localhost:8080/"
        },
        "id": "yDTiOhg7Wj6S",
        "outputId": "0c6388a9-74f7-45fa-bd40-be450960693e"
      },
      "execution_count": 26,
      "outputs": [
        {
          "output_type": "stream",
          "name": "stdout",
          "text": [
            "('V1', 'V2', 'V3')\n",
            "<class 'tuple'>\n",
            "('V1', 'V2', 'V3')\n"
          ]
        }
      ]
    },
    {
      "cell_type": "markdown",
      "source": [
        "Tuple to List"
      ],
      "metadata": {
        "id": "FtI-PN7-Yej5"
      }
    },
    {
      "cell_type": "code",
      "source": [
        "tup = ('V1','V2','V3')\n",
        "print(type(tup))\n",
        "#l1 = list(tup)\n"
      ],
      "metadata": {
        "colab": {
          "base_uri": "https://localhost:8080/"
        },
        "id": "vWgQ9g05Ygjw",
        "outputId": "b46033a4-0216-47a8-c8d9-2c1b206fb5a6"
      },
      "execution_count": 35,
      "outputs": [
        {
          "output_type": "stream",
          "name": "stdout",
          "text": [
            "<class 'tuple'>\n"
          ]
        }
      ]
    },
    {
      "cell_type": "markdown",
      "source": [
        "Set"
      ],
      "metadata": {
        "id": "MqFwhi_LYCPQ"
      }
    },
    {
      "cell_type": "code",
      "source": [
        "iSet = {1,2,3,4,5,1,2,3,4,5}\n",
        "print(iSet)\n",
        "print(type(iSet))"
      ],
      "metadata": {
        "id": "F0Ca_VKtYDRw"
      },
      "execution_count": null,
      "outputs": []
    },
    {
      "cell_type": "markdown",
      "source": [
        "List  -> [...]  Mutable (Changable)\n",
        "Tuple -> (...)  UnChangable\n",
        "Set   -> {...}  Only Unique \\ Different Value"
      ],
      "metadata": {
        "id": "EYJzax_IWoe5"
      }
    }
  ]
}