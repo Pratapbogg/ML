{
  "nbformat": 4,
  "nbformat_minor": 0,
  "metadata": {
    "colab": {
      "name": "MLBasics.ipynb",
      "provenance": [],
      "collapsed_sections": [],
      "authorship_tag": "ABX9TyMHqTBAxcxQorwE1NU6XNSz",
      "include_colab_link": true
    },
    "kernelspec": {
      "name": "python3",
      "display_name": "Python 3"
    },
    "language_info": {
      "name": "python"
    }
  },
  "cells": [
    {
      "cell_type": "markdown",
      "metadata": {
        "id": "view-in-github",
        "colab_type": "text"
      },
      "source": [
        "<a href=\"https://colab.research.google.com/github/Pratapbogg/ML/blob/main/MLBasics.ipynb\" target=\"_parent\"><img src=\"https://colab.research.google.com/assets/colab-badge.svg\" alt=\"Open In Colab\"/></a>"
      ]
    },
    {
      "cell_type": "markdown",
      "source": [
        "\n",
        "1. Print()\n"
      ],
      "metadata": {
        "id": "U8vsJ-muQ-2y"
      }
    },
    {
      "cell_type": "code",
      "source": [
        "print(\"Hello World\")"
      ],
      "metadata": {
        "id": "01xEecy3Q-dM"
      },
      "execution_count": null,
      "outputs": []
    },
    {
      "cell_type": "markdown",
      "source": [
        "2. Data Structure\n",
        "  a.List\n",
        "  b.Tuple\n",
        "  c.Dict\n",
        "  d.Set\n",
        "\n",
        "  "
      ],
      "metadata": {
        "id": "6XLXDavJR-Iq"
      }
    },
    {
      "cell_type": "code",
      "source": [
        "list = [1,'a',\"test\",3.6,True]\n",
        "array = [1,2,3,4,5,]"
      ],
      "metadata": {
        "id": "FnS5M__gR92a"
      },
      "execution_count": 6,
      "outputs": []
    }
  ]
}